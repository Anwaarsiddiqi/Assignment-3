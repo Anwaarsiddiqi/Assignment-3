{
 "cells": [
  {
   "cell_type": "markdown",
   "metadata": {},
   "source": [
    "# Q1:"
   ]
  },
  {
   "cell_type": "markdown",
   "metadata": {},
   "source": [
    "Think of at least three kinds of your favorite pizza. Store these pizza names in a list, and then use a for loop to print the name of each pizza."
   ]
  },
  {
   "cell_type": "code",
   "execution_count": 8,
   "metadata": {},
   "outputs": [],
   "source": [
    "pizza = ['Double cheese pizza','Spicy ranch pizza','BBQ buzz pizza']"
   ]
  },
  {
   "cell_type": "code",
   "execution_count": 9,
   "metadata": {},
   "outputs": [
    {
     "name": "stdout",
     "output_type": "stream",
     "text": [
      "Double cheese pizza\n",
      "Spicy ranch pizza\n",
      "BBQ buzz pizza\n"
     ]
    }
   ],
   "source": [
    "for x in pizza:\n",
    "    print(x)"
   ]
  },
  {
   "cell_type": "code",
   "execution_count": null,
   "metadata": {},
   "outputs": [],
   "source": []
  },
  {
   "cell_type": "markdown",
   "metadata": {},
   "source": [
    "# Q2"
   ]
  },
  {
   "cell_type": "markdown",
   "metadata": {},
   "source": [
    "Start with your last question , Modify your for loop to print a sentence using the name of the pizza\n",
    "instead of printing just the name of the pizza. For each pizza you should\n",
    "have one line of output containing a simple statement like I like pepperoni\n",
    "pizza."
   ]
  },
  {
   "cell_type": "code",
   "execution_count": 10,
   "metadata": {},
   "outputs": [],
   "source": [
    "pizza = ['I like pepperoni pizza','I like Spicy ranch pizza','I like Chicken supreme pizza']\n"
   ]
  },
  {
   "cell_type": "code",
   "execution_count": 11,
   "metadata": {},
   "outputs": [
    {
     "name": "stdout",
     "output_type": "stream",
     "text": [
      "I like pepperoni pizza\n",
      "I like Spicy ranch pizza\n",
      "I like Chicken supreme pizza\n"
     ]
    }
   ],
   "source": [
    "for a in pizza:\n",
    "    print(a)"
   ]
  },
  {
   "cell_type": "code",
   "execution_count": null,
   "metadata": {},
   "outputs": [],
   "source": []
  },
  {
   "cell_type": "markdown",
   "metadata": {},
   "source": [
    "# Q3:"
   ]
  },
  {
   "cell_type": "markdown",
   "metadata": {},
   "source": [
    "Use a for loop to print the numbers from 1 to 20,\n",
    "inclusive."
   ]
  },
  {
   "cell_type": "code",
   "execution_count": 13,
   "metadata": {},
   "outputs": [
    {
     "name": "stdout",
     "output_type": "stream",
     "text": [
      "1\n",
      "2\n",
      "3\n",
      "4\n",
      "5\n",
      "6\n",
      "7\n",
      "8\n",
      "9\n",
      "10\n",
      "11\n",
      "12\n",
      "13\n",
      "14\n",
      "15\n",
      "16\n",
      "17\n",
      "18\n",
      "19\n",
      "20\n"
     ]
    }
   ],
   "source": [
    "for y in range(1,21):\n",
    "    print(y)"
   ]
  },
  {
   "cell_type": "code",
   "execution_count": null,
   "metadata": {},
   "outputs": [],
   "source": []
  },
  {
   "cell_type": "code",
   "execution_count": null,
   "metadata": {},
   "outputs": [],
   "source": []
  },
  {
   "cell_type": "markdown",
   "metadata": {},
   "source": [
    "# Q4:"
   ]
  },
  {
   "cell_type": "markdown",
   "metadata": {},
   "source": [
    "Use the third argument of the range() function to make a list\n",
    "of the odd numbers from 1 to 20. Use a for loop to print each number."
   ]
  },
  {
   "cell_type": "code",
   "execution_count": 22,
   "metadata": {
    "scrolled": true
   },
   "outputs": [
    {
     "name": "stdout",
     "output_type": "stream",
     "text": [
      "Odd Number from 1 to 20\n",
      "1\n",
      "3\n",
      "5\n",
      "7\n",
      "9\n",
      "11\n",
      "13\n",
      "15\n",
      "17\n",
      "19\n"
     ]
    }
   ],
   "source": [
    "print('Odd Number from 1 to 20')\n",
    "for b in range(1,21,2):\n",
    "        print(b)"
   ]
  },
  {
   "cell_type": "code",
   "execution_count": null,
   "metadata": {},
   "outputs": [],
   "source": []
  },
  {
   "cell_type": "code",
   "execution_count": null,
   "metadata": {},
   "outputs": [],
   "source": []
  },
  {
   "cell_type": "markdown",
   "metadata": {},
   "source": [
    "# Q5:"
   ]
  },
  {
   "cell_type": "markdown",
   "metadata": {},
   "source": [
    "Make a list of the multiples of 3 from 3 to 30. Use a for loop to\n",
    "print the numbers in your list."
   ]
  },
  {
   "cell_type": "code",
   "execution_count": 29,
   "metadata": {},
   "outputs": [
    {
     "name": "stdout",
     "output_type": "stream",
     "text": [
      "[3, 6, 9, 12, 15, 18, 21, 24, 27, 30]\n"
     ]
    }
   ],
   "source": [
    "list1= [1,2,3,4,5,6,7,8,9,10]\n",
    "mult_list=[]\n",
    "for m in list1:\n",
    "    mult_list.append(m*3)\n",
    "print(mult_list)"
   ]
  },
  {
   "cell_type": "code",
   "execution_count": null,
   "metadata": {},
   "outputs": [],
   "source": []
  },
  {
   "cell_type": "code",
   "execution_count": null,
   "metadata": {},
   "outputs": [],
   "source": []
  },
  {
   "cell_type": "code",
   "execution_count": null,
   "metadata": {},
   "outputs": [],
   "source": []
  },
  {
   "cell_type": "markdown",
   "metadata": {},
   "source": [
    "# Q6:"
   ]
  },
  {
   "cell_type": "markdown",
   "metadata": {},
   "source": [
    "A number raised to the third power is called a cube. For example,\n",
    "the cube of 2 is written as 2**3 in Python. Make a list of the first 10 cubes (that\n",
    "is, the cube of each integer from 1 through 10), and use a for loop to print out\n",
    "the value of each cube"
   ]
  },
  {
   "cell_type": "code",
   "execution_count": 32,
   "metadata": {},
   "outputs": [
    {
     "name": "stdout",
     "output_type": "stream",
     "text": [
      "[1, 8, 27, 64, 125, 216, 343, 512, 729, 1000]\n"
     ]
    }
   ],
   "source": [
    "lis = [1,2,3,4,5,6,7,8,9,10]\n",
    "lis1 = []\n",
    "for t in lis:\n",
    "    lis1.append(t**3)\n",
    "print(lis1)    "
   ]
  },
  {
   "cell_type": "code",
   "execution_count": null,
   "metadata": {},
   "outputs": [],
   "source": []
  },
  {
   "cell_type": "code",
   "execution_count": null,
   "metadata": {},
   "outputs": [],
   "source": []
  },
  {
   "cell_type": "code",
   "execution_count": null,
   "metadata": {},
   "outputs": [],
   "source": []
  },
  {
   "cell_type": "markdown",
   "metadata": {},
   "source": [
    "# Q7:"
   ]
  },
  {
   "cell_type": "markdown",
   "metadata": {},
   "source": [
    "###### Make a python program that conatains your nine favourite dishes in a list called foods.\n",
    "\n",
    "###### Print the message, The first three items in the list are:. \n",
    "###### Then use a slice to print the first three items from that program’s list.\n",
    "\n",
    "###### Print the message, Three items from the middle of the list are:\n",
    "###### Use a slice to print three items from the middle of the list.\n",
    "\n",
    "###### Print the message, The last three items in the list are:\n",
    "###### Use a slice to print the last three items in the list."
   ]
  },
  {
   "cell_type": "code",
   "execution_count": 77,
   "metadata": {},
   "outputs": [],
   "source": [
    "dishes = ['Biryani','Qorma','Pizza','Chicken Karahi','Chinese Rice','Singaporian Rice','Pilao','Haleem','Chicken tikka']"
   ]
  },
  {
   "cell_type": "code",
   "execution_count": 78,
   "metadata": {},
   "outputs": [
    {
     "name": "stdout",
     "output_type": "stream",
     "text": [
      "The first three items in the list are:\n"
     ]
    },
    {
     "data": {
      "text/plain": [
       "['Biryani', 'Qorma', 'Pizza']"
      ]
     },
     "execution_count": 78,
     "metadata": {},
     "output_type": "execute_result"
    }
   ],
   "source": [
    "print('The first three items in the list are:')\n",
    "dishes[0:3]\n",
    "\n"
   ]
  },
  {
   "cell_type": "code",
   "execution_count": 79,
   "metadata": {},
   "outputs": [
    {
     "name": "stdout",
     "output_type": "stream",
     "text": [
      "Three items from the middle of the list are:\n"
     ]
    },
    {
     "data": {
      "text/plain": [
       "['Chicken Karahi', 'Chinese Rice', 'Singaporian Rice']"
      ]
     },
     "execution_count": 79,
     "metadata": {},
     "output_type": "execute_result"
    }
   ],
   "source": [
    "print('Three items from the middle of the list are:')\n",
    "dishes[3:6]"
   ]
  },
  {
   "cell_type": "code",
   "execution_count": 80,
   "metadata": {},
   "outputs": [
    {
     "name": "stdout",
     "output_type": "stream",
     "text": [
      "The last three items in  the list are: \n"
     ]
    },
    {
     "data": {
      "text/plain": [
       "['Pilao', 'Haleem', 'Chicken tikka']"
      ]
     },
     "execution_count": 80,
     "metadata": {},
     "output_type": "execute_result"
    }
   ],
   "source": [
    "print('The last three items in  the list are: ')\n",
    "dishes[6:9]"
   ]
  },
  {
   "cell_type": "code",
   "execution_count": 81,
   "metadata": {},
   "outputs": [
    {
     "data": {
      "text/plain": [
       "['Biryani',\n",
       " 'Qorma',\n",
       " 'Pizza',\n",
       " 'Chicken Karahi',\n",
       " 'Chinese Rice',\n",
       " 'Singaporian Rice',\n",
       " 'Pilao',\n",
       " 'Haleem',\n",
       " 'Chicken tikka']"
      ]
     },
     "execution_count": 81,
     "metadata": {},
     "output_type": "execute_result"
    }
   ],
   "source": [
    "dishes"
   ]
  },
  {
   "cell_type": "code",
   "execution_count": null,
   "metadata": {},
   "outputs": [],
   "source": []
  },
  {
   "cell_type": "code",
   "execution_count": null,
   "metadata": {},
   "outputs": [],
   "source": []
  },
  {
   "cell_type": "markdown",
   "metadata": {},
   "source": [
    "# Q8:"
   ]
  },
  {
   "cell_type": "markdown",
   "metadata": {},
   "source": [
    "### Start with your program from your last Question8.\n",
    "###### Make a copy of the list of foods, and call it friend_foods.\n",
    "###### Then, do the following:\n",
    "######    Add a new dish to the original list.\n",
    "######    Add a different dish to the list friend_foodss.\n",
    "######    Prove that you have two separate lists. \n",
    "###### Print the message, My favorite pizzas are: and then use a for loop to print the first list. \n",
    "###### Print the message,\n",
    "###### My friend’s favorite foods are:, and then use a for loop to print the second list.\n",
    "    \n",
    "##### NOTE: Make sure each new dish is stored in the appropriate list."
   ]
  },
  {
   "cell_type": "code",
   "execution_count": 104,
   "metadata": {},
   "outputs": [],
   "source": [
    "friend_foods = []\n",
    "friend_foods = dishes.copy()"
   ]
  },
  {
   "cell_type": "code",
   "execution_count": 117,
   "metadata": {},
   "outputs": [],
   "source": [
    "dishes.append('Nihari')"
   ]
  },
  {
   "cell_type": "code",
   "execution_count": 119,
   "metadata": {},
   "outputs": [
    {
     "name": "stdout",
     "output_type": "stream",
     "text": [
      "My Favourite foods are: \n",
      "Biryani\n",
      "Qorma\n",
      "Pizza\n",
      "Chicken Karahi\n",
      "Chinese Rice\n",
      "Singaporian Rice\n",
      "Pilao\n",
      "Haleem\n",
      "Chicken tikka\n",
      "Nihari\n"
     ]
    }
   ],
   "source": [
    "print('My Favourite foods are: ')\n",
    "for o in dishes:\n",
    "    print(o)"
   ]
  },
  {
   "cell_type": "code",
   "execution_count": 121,
   "metadata": {},
   "outputs": [],
   "source": [
    "friend_foods.append('Chargha')"
   ]
  },
  {
   "cell_type": "code",
   "execution_count": 126,
   "metadata": {},
   "outputs": [
    {
     "name": "stdout",
     "output_type": "stream",
     "text": [
      "My friends Favourite foods are:\n",
      "Biryani\n",
      "Qorma\n",
      "Pizza\n",
      "Chicken Karahi\n",
      "Chinese Rice\n",
      "Singaporian Rice\n",
      "Pilao\n",
      "Haleem\n",
      "Chicken tikka\n",
      "Chargha\n"
     ]
    }
   ],
   "source": [
    "print('My friends Favourite foods are:')\n",
    "for y in friend_foods:\n",
    "      print(y)"
   ]
  },
  {
   "cell_type": "code",
   "execution_count": null,
   "metadata": {},
   "outputs": [],
   "source": [
    " "
   ]
  },
  {
   "cell_type": "code",
   "execution_count": null,
   "metadata": {},
   "outputs": [],
   "source": []
  },
  {
   "cell_type": "markdown",
   "metadata": {},
   "source": [
    "# Q9:"
   ]
  },
  {
   "cell_type": "markdown",
   "metadata": {},
   "source": [
    "Take a user input from console line.Store it in a variable called Alien_color.\n",
    "\n",
    "If the alien’s color is red, print a statement that the player just earned 5 points for shooting the alien.\n",
    "\n",
    "If the alien’s color isn’t green, print a statement that the player just earned 10 points.\n",
    "\n",
    "If the alien's color isn't red or green , print a statment :, Alien is no more....."
   ]
  },
  {
   "cell_type": "code",
   "execution_count": 131,
   "metadata": {},
   "outputs": [
    {
     "name": "stdout",
     "output_type": "stream",
     "text": [
      "Enter Alien_color : red\n",
      "The player just earned 5 points for shooting the alien \n"
     ]
    }
   ],
   "source": [
    "alien_color= input(\"Enter Alien_color : \")\n",
    "if alien_color==\"red\":\n",
    "    print(\"The player just earned 5 points for shooting the alien \")\n",
    "elif alien_color==\"green\":\n",
    "        print(\" The player just earned 10 points.\")\n",
    "else:\n",
    "        print(\" Alien is no more\")"
   ]
  },
  {
   "cell_type": "code",
   "execution_count": 99,
   "metadata": {},
   "outputs": [
    {
     "name": "stdout",
     "output_type": "stream",
     "text": [
      "Enter Alien_color : green\n",
      " The player just earned 10 points.\n"
     ]
    }
   ],
   "source": [
    "alien_color= input(\"Enter Alien_color : \")\n",
    "if alien_color==\"red\":\n",
    "    print(\"The player just earned 5 points for shooting the alien \")\n",
    "elif alien_color==\"green\":\n",
    "        print(\" The player just earned 10 points.\")\n",
    "else:\n",
    "        print(\" Alien is no more\")"
   ]
  },
  {
   "cell_type": "code",
   "execution_count": 100,
   "metadata": {},
   "outputs": [
    {
     "name": "stdout",
     "output_type": "stream",
     "text": [
      "Enter Alien_color : blue\n",
      " Alien is no more\n"
     ]
    }
   ],
   "source": [
    "alien_color= input(\"Enter Alien_color : \")\n",
    "if alien_color==\"red\":\n",
    "    print(\"The player just earned 5 points for shooting the alien \")\n",
    "elif alien_color==\"green\":\n",
    "        print(\" The player just earned 10 points.\")\n",
    "else:\n",
    "        print(\" Alien is no more\")"
   ]
  },
  {
   "cell_type": "code",
   "execution_count": null,
   "metadata": {},
   "outputs": [],
   "source": []
  },
  {
   "cell_type": "markdown",
   "metadata": {},
   "source": [
    "# Q10:"
   ]
  },
  {
   "cell_type": "markdown",
   "metadata": {},
   "source": [
    "Write an if-elif-else chain that determines a person’s\n",
    "stage of life. Set a value for the variable age, and then:\n",
    "    \n",
    "•\t If the person is less than 2 years old, print a message that the person is a baby.\n",
    "\n",
    "•\t If the person is at least 2 years old but less than 4, print a message that the person is a toddler.\n",
    "\n",
    "•\t If the person is at least 4 years old but less than 13, print a message that the person is a kid.\n",
    "\n",
    "•\t If the person is at least 13 years old but less than 20, print a message that the person is a teenager.\n",
    "\n",
    "•\t If the person is at least 20 years old but less than 65, print a message that the person is an adult.\n",
    "\n",
    "•\t If the person is age 65 or older, print a message that the person is an elder."
   ]
  },
  {
   "cell_type": "code",
   "execution_count": 40,
   "metadata": {},
   "outputs": [
    {
     "name": "stdout",
     "output_type": "stream",
     "text": [
      "Enter age: 1\n",
      "The person is a baby\n"
     ]
    }
   ],
   "source": [
    "age = int(input(\"Enter age: \"))\n",
    "if age < 2:\n",
    "    print('The person is a baby')\n",
    "elif age==2 or age < 4:\n",
    "    print('The person is a toddler')\n",
    "elif age== 4 or age < 13:\n",
    "    print('The Person is a kid')\n",
    "elif age == 13 or age < 20:\n",
    "    print('The person is a teenager')\n",
    "elif age == 20 or age < 65:\n",
    "    print('The person is an adult')\n",
    "else:\n",
    "    print('The person is an elder')"
   ]
  },
  {
   "cell_type": "code",
   "execution_count": 41,
   "metadata": {},
   "outputs": [
    {
     "name": "stdout",
     "output_type": "stream",
     "text": [
      "Enter age: 3\n",
      "The person is a toddler\n"
     ]
    }
   ],
   "source": [
    "age = int(input(\"Enter age: \"))\n",
    "if age < 2:\n",
    "    print('The person is a baby')\n",
    "elif age==2 or age < 4:\n",
    "    print('The person is a toddler')\n",
    "elif age== 4 or age < 13:\n",
    "    print('The Person is a kid')\n",
    "elif age == 13 or age < 20:\n",
    "    print('The person is a teenager')\n",
    "elif age == 20 or age < 65:\n",
    "    print('The person is an adult')\n",
    "else:\n",
    "    print('The person is an elder')"
   ]
  },
  {
   "cell_type": "code",
   "execution_count": 43,
   "metadata": {},
   "outputs": [
    {
     "name": "stdout",
     "output_type": "stream",
     "text": [
      "Enter age: 4\n",
      "The Person is a kid\n"
     ]
    }
   ],
   "source": [
    "age = int(input(\"Enter age: \"))\n",
    "if age < 2:\n",
    "    print('The person is a baby')\n",
    "elif age==2 or age < 4:\n",
    "    print('The person is a toddler')\n",
    "elif age== 4 or age < 13:\n",
    "    print('The Person is a kid')\n",
    "elif age == 13 or age < 20:\n",
    "    print('The person is a teenager')\n",
    "elif age == 20 or age < 65:\n",
    "    print('The person is an adult')\n",
    "else:\n",
    "    print('The person is an elder')"
   ]
  },
  {
   "cell_type": "code",
   "execution_count": 44,
   "metadata": {},
   "outputs": [
    {
     "name": "stdout",
     "output_type": "stream",
     "text": [
      "Enter age: 13\n",
      "The person is a teenager\n"
     ]
    }
   ],
   "source": [
    "age = int(input(\"Enter age: \"))\n",
    "if age < 2:\n",
    "    print('The person is a baby')\n",
    "elif age==2 or age < 4:\n",
    "    print('The person is a toddler')\n",
    "elif age== 4 or age < 13:\n",
    "    print('The Person is a kid')\n",
    "elif age == 13 or age < 20:\n",
    "    print('The person is a teenager')\n",
    "elif age == 20 or age < 65:\n",
    "    print('The person is an adult')\n",
    "else:\n",
    "    print('The person is an elder')"
   ]
  },
  {
   "cell_type": "code",
   "execution_count": 45,
   "metadata": {},
   "outputs": [
    {
     "name": "stdout",
     "output_type": "stream",
     "text": [
      "Enter age: 21\n",
      "The person is an adult\n"
     ]
    }
   ],
   "source": [
    "age = int(input(\"Enter age: \"))\n",
    "if age < 2:\n",
    "    print('The person is a baby')\n",
    "elif age==2 or age < 4:\n",
    "    print('The person is a toddler')\n",
    "elif age== 4 or age < 13:\n",
    "    print('The Person is a kid')\n",
    "elif age == 13 or age < 20:\n",
    "    print('The person is a teenager')\n",
    "elif age == 20 or age < 65:\n",
    "    print('The person is an adult')\n",
    "else:\n",
    "    print('The person is an elder')"
   ]
  },
  {
   "cell_type": "code",
   "execution_count": 46,
   "metadata": {},
   "outputs": [
    {
     "name": "stdout",
     "output_type": "stream",
     "text": [
      "Enter age: 65\n",
      "The person is an elder\n"
     ]
    }
   ],
   "source": [
    "age = int(input(\"Enter age: \"))\n",
    "if age < 2:\n",
    "    print('The person is a baby')\n",
    "elif age==2 or age < 4:\n",
    "    print('The person is a toddler')\n",
    "elif age== 4 or age < 13:\n",
    "    print('The Person is a kid')\n",
    "elif age == 13 or age < 20:\n",
    "    print('The person is a teenager')\n",
    "elif age == 20 or age < 65:\n",
    "    print('The person is an adult')\n",
    "else:\n",
    "    print('The person is an elder')"
   ]
  },
  {
   "cell_type": "markdown",
   "metadata": {},
   "source": [
    "# Q11:"
   ]
  },
  {
   "cell_type": "markdown",
   "metadata": {},
   "source": [
    "Do the following to create a program that simulates how websites ensure that everyone has a unique username.\n",
    "\n",
    "•\t Make a list of five or more usernames called current_users.\n",
    "\n",
    "•\t Make another list of five usernames called new_users. \n",
    "Make sure one or two of the new usernames are also in the current_users list.\n",
    "\n",
    "•\t Loop through the new_users list to see if each new username has already been used. \n",
    "If it has, print a message that the person will need to enter a new username. \n",
    "If a username has not been used, print a message saying that the username is available.\n",
    "\n",
    "•\t Make sure your comparison is case insensitive. If 'John' has been used, 'JOHN' should not be accepted."
   ]
  },
  {
   "cell_type": "code",
   "execution_count": 31,
   "metadata": {},
   "outputs": [],
   "source": [
    "Current_users = ['Ali','Sami','Aasif','Asfand','Shehryar','Aadil','Abeer']\n",
    "new_users = ['Aadil','Abeer','Usman','Hasan','Aashir']\n"
   ]
  },
  {
   "cell_type": "code",
   "execution_count": 34,
   "metadata": {},
   "outputs": [
    {
     "name": "stdout",
     "output_type": "stream",
     "text": [
      " Aadil Username has been already used.. The person will need to enter a new username\n",
      " Abeer Username has been already used.. The person will need to enter a new username\n",
      " Usman Username is available \n",
      " Hasan Username is available \n",
      " Aashir Username is available \n"
     ]
    }
   ],
   "source": [
    "for h in new_users:\n",
    "    if h in Current_users:\n",
    "        print(f' {h} Username has been already used.. The person will need to enter a new username')\n",
    "    else:\n",
    "        print(f' {h} Username is available ')"
   ]
  },
  {
   "cell_type": "code",
   "execution_count": null,
   "metadata": {},
   "outputs": [],
   "source": []
  },
  {
   "cell_type": "code",
   "execution_count": null,
   "metadata": {},
   "outputs": [],
   "source": []
  },
  {
   "cell_type": "markdown",
   "metadata": {},
   "source": [
    "# Q12:"
   ]
  },
  {
   "cell_type": "markdown",
   "metadata": {},
   "source": [
    "Use a dictionary to store information about a person you know.\n",
    "Store their first name, last name, age, and the city in which they live. \n",
    "You should have keys such as first_name, last_name, age, and city. \n",
    "Print each piece of information stored in your dictionary"
   ]
  },
  {
   "cell_type": "code",
   "execution_count": 67,
   "metadata": {},
   "outputs": [
    {
     "name": "stdout",
     "output_type": "stream",
     "text": [
      "first_name: Ali\n",
      "Last_name: Ahmed\n",
      "age: 50\n",
      "city: Karachi\n"
     ]
    }
   ],
   "source": [
    "Information = {'first_name':'Ali','Last_name':'Ahmed','age':50,'city':'Karachi'}\n",
    "for a,b in Information.items():\n",
    "    print(f'{a}: {b}')"
   ]
  },
  {
   "cell_type": "code",
   "execution_count": null,
   "metadata": {},
   "outputs": [],
   "source": []
  },
  {
   "cell_type": "code",
   "execution_count": null,
   "metadata": {},
   "outputs": [],
   "source": []
  },
  {
   "cell_type": "code",
   "execution_count": null,
   "metadata": {},
   "outputs": [],
   "source": []
  },
  {
   "cell_type": "markdown",
   "metadata": {},
   "source": [
    "# Q13:"
   ]
  },
  {
   "cell_type": "markdown",
   "metadata": {},
   "source": [
    "Starts with your last question 12 , loop through the dictionary’s keys and values.\n",
    "When you’re sure that your loop works, add five more Python terms to your\n",
    "dictionary . When you run your program again, these new words and meanings\n",
    "should automatically be included in the output."
   ]
  },
  {
   "cell_type": "code",
   "execution_count": 68,
   "metadata": {
    "scrolled": true
   },
   "outputs": [
    {
     "name": "stdout",
     "output_type": "stream",
     "text": [
      "first_name: Ali\n",
      "Last_name: Ahmed\n",
      "age: 50\n",
      "city: Karachi\n"
     ]
    }
   ],
   "source": [
    "for a,b in Information.items():\n",
    "    print(f'{a}: {b}')"
   ]
  },
  {
   "cell_type": "code",
   "execution_count": 69,
   "metadata": {},
   "outputs": [],
   "source": [
    "Information  ['Birthday']='25-Jan-2019'\n",
    "Information  ['Gender']='Male'\n",
    "Information  ['Religion']='Islam'\n",
    "Information  ['Education']='Masters'\n",
    "Information  ['Cell no' ]= '0123-213123'"
   ]
  },
  {
   "cell_type": "code",
   "execution_count": 70,
   "metadata": {},
   "outputs": [
    {
     "name": "stdout",
     "output_type": "stream",
     "text": [
      "first_name: Ali\n",
      "Last_name: Ahmed\n",
      "age: 50\n",
      "city: Karachi\n",
      "Birthday: 25-Jan-2019\n",
      "Gender: Male\n",
      "Religion: Islam\n",
      "Education: Masters\n",
      "Cell no: 0123-213123\n"
     ]
    }
   ],
   "source": [
    "for a,b in Information.items():\n",
    "    print(f'{a}: {b}')"
   ]
  },
  {
   "cell_type": "code",
   "execution_count": null,
   "metadata": {},
   "outputs": [],
   "source": []
  },
  {
   "cell_type": "code",
   "execution_count": null,
   "metadata": {},
   "outputs": [],
   "source": []
  },
  {
   "cell_type": "markdown",
   "metadata": {},
   "source": [
    "# Q14:"
   ]
  },
  {
   "cell_type": "markdown",
   "metadata": {},
   "source": [
    "Make a dictionary containing three major rivers and the country\n",
    "each river runs through. One key-value pair might be 'nile': 'egypt'.\n",
    "    \n",
    "    \n",
    "•\t Use a loop to print a sentence about each river, such as The Nile runs\n",
    "through Egypt.\n",
    "\n",
    "NOTE: use upper case through keys and values."
   ]
  },
  {
   "cell_type": "code",
   "execution_count": 75,
   "metadata": {},
   "outputs": [
    {
     "name": "stdout",
     "output_type": "stream",
     "text": [
      "The NILE runs through EGYPT\n",
      "The AMAZON runs through SOUTH AMERICA\n",
      "The YANGTZA runs through CHINA\n",
      "The CONGO runs through AFRICA\n",
      "The RHINE runs through EUROPE\n"
     ]
    }
   ],
   "source": [
    "rivers= {'nile':'egypt','amazon':'south america','yangtza':'china','Congo':'africa','Rhine':'europe'}\n",
    "for k,v in rivers.items():\n",
    "    print(f'The {k.upper()} runs through {v.upper()}')"
   ]
  },
  {
   "cell_type": "code",
   "execution_count": null,
   "metadata": {},
   "outputs": [],
   "source": []
  },
  {
   "cell_type": "code",
   "execution_count": null,
   "metadata": {},
   "outputs": [],
   "source": []
  },
  {
   "cell_type": "markdown",
   "metadata": {},
   "source": [
    "# Q15:"
   ]
  },
  {
   "cell_type": "markdown",
   "metadata": {},
   "source": [
    "Make several dictionaries, where the name of each dictionary is the\n",
    "name of a pet. In each dictionary, include the kind of animal and the owner’s\n",
    "name. Store these dictionaries in a list called pets. Next, loop through your list\n",
    "and as you do print everything you know about each pet."
   ]
  },
  {
   "cell_type": "code",
   "execution_count": 98,
   "metadata": {},
   "outputs": [
    {
     "name": "stdout",
     "output_type": "stream",
     "text": [
      "{'Name of a pet': 'Cat', 'kind of animal': 'mammal', 'owners name': 'Aashir'}\n",
      "{'Name of a pet': 'Rabbit', 'kind of animal': 'small mammals', 'owners name': 'Anees'}\n",
      "{'Name of a pet': 'Lion', 'kind of animal': 'Wild animal', 'owners name': 'Noman'}\n",
      "{'Name of a pet': 'Zebra', 'kind of animal': 'single-hoofed animals', 'owners name': 'Areesh'}\n",
      "{'Name of a pet': 'Snake', 'kind of animal': 'REPTILES', 'owners name': 'Daniyal'}\n"
     ]
    }
   ],
   "source": [
    "Cat ={'Name of a pet':'Cat','kind of animal':'mammal','owners name':'Aashir'}\n",
    "Rabbit ={'Name of a pet':'Rabbit','kind of animal':'small mammals','owners name':'Anees'}\n",
    "Lion ={'Name of a pet':'Lion','kind of animal':'Wild animal','owners name':'Noman'}\n",
    "Zebra ={'Name of a pet':'Zebra','kind of animal':'single-hoofed animals','owners name':'Areesh'}\n",
    "Snake={'Name of a pet':'Snake','kind of animal':'REPTILES','owners name':'Daniyal'}\n",
    "\n",
    "pets = (Cat,Rabbit,Lion,Zebra,Snake)\n",
    "for p in pets:\n",
    "    print(p )"
   ]
  },
  {
   "cell_type": "code",
   "execution_count": null,
   "metadata": {},
   "outputs": [],
   "source": []
  }
 ],
 "metadata": {
  "kernelspec": {
   "display_name": "Python 3",
   "language": "python",
   "name": "python3"
  },
  "language_info": {
   "codemirror_mode": {
    "name": "ipython",
    "version": 3
   },
   "file_extension": ".py",
   "mimetype": "text/x-python",
   "name": "python",
   "nbconvert_exporter": "python",
   "pygments_lexer": "ipython3",
   "version": "3.7.3"
  }
 },
 "nbformat": 4,
 "nbformat_minor": 2
}
